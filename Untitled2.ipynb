{
  "nbformat": 4,
  "nbformat_minor": 0,
  "metadata": {
    "colab": {
      "name": "Untitled2.ipynb",
      "provenance": [],
      "collapsed_sections": [],
      "authorship_tag": "ABX9TyPlV5QEdPxulPRX+aD8PBJY",
      "include_colab_link": true
    },
    "kernelspec": {
      "name": "python3",
      "display_name": "Python 3"
    }
  },
  "cells": [
    {
      "cell_type": "markdown",
      "metadata": {
        "id": "view-in-github",
        "colab_type": "text"
      },
      "source": [
        "<a href=\"https://colab.research.google.com/github/melkecelioglu/phyton-first/blob/main/Untitled2.ipynb\" target=\"_parent\"><img src=\"https://colab.research.google.com/assets/colab-badge.svg\" alt=\"Open In Colab\"/></a>"
      ]
    },
    {
      "cell_type": "code",
      "metadata": {
        "colab": {
          "base_uri": "https://localhost:8080/"
        },
        "id": "rz0sPeVYVf4x",
        "outputId": "6c035e1f-df90-4f91-efd9-80fb7d9c6887"
      },
      "source": [
        "# Prime number generator\n",
        "def prime_generator(end):\n",
        "    for n in range(2, end):     # n starts from 2 to end\n",
        "        for x in range(2, n):   # check if x can be divided by n\n",
        "            if n % x == 0:      # if true then n is not prime\n",
        "                break\n",
        "        else:                   # if x is found after exhausting all values of x\n",
        "            yield n             # generate the prime\n",
        "\n",
        "\n",
        "g = prime_generator(1000)       # give firt 1000 prime numbers\n",
        "print(list(g)) "
      ],
      "execution_count": null,
      "outputs": [
        {
          "output_type": "stream",
          "text": [
            "[2, 3, 5, 7, 11, 13, 17, 19, 23, 29, 31, 37, 41, 43, 47, 53, 59, 61, 67, 71, 73, 79, 83, 89, 97, 101, 103, 107, 109, 113, 127, 131, 137, 139, 149, 151, 157, 163, 167, 173, 179, 181, 191, 193, 197, 199, 211, 223, 227, 229, 233, 239, 241, 251, 257, 263, 269, 271, 277, 281, 283, 293, 307, 311, 313, 317, 331, 337, 347, 349, 353, 359, 367, 373, 379, 383, 389, 397, 401, 409, 419, 421, 431, 433, 439, 443, 449, 457, 461, 463, 467, 479, 487, 491, 499, 503, 509, 521, 523, 541, 547, 557, 563, 569, 571, 577, 587, 593, 599, 601, 607, 613, 617, 619, 631, 641, 643, 647, 653, 659, 661, 673, 677, 683, 691, 701, 709, 719, 727, 733, 739, 743, 751, 757, 761, 769, 773, 787, 797, 809, 811, 821, 823, 827, 829, 839, 853, 857, 859, 863, 877, 881, 883, 887, 907, 911, 919, 929, 937, 941, 947, 953, 967, 971, 977, 983, 991, 997]\n"
          ],
          "name": "stdout"
        }
      ]
    },
    {
      "cell_type": "code",
      "metadata": {
        "id": "tieac85QXovs"
      },
      "source": [
        "def createMatrix(rowCount, colCount, dataList):   \n",
        "    mat = []\n",
        "    for i in range (rowCount):\n",
        "        rowList = []\n",
        "        for j in range (colCount):\n",
        "            if dataList[j] not in mat:\n",
        "                rowList.append(dataList[j])\n",
        "        mat.append(rowList)\n",
        "\n",
        "    return mat \n"
      ],
      "execution_count": null,
      "outputs": []
    }
  ]
}